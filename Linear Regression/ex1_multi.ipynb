{
 "cells": [
  {
   "cell_type": "markdown",
   "metadata": {},
   "source": [
    "<h2><strong>Andrew Ng- Machine Learning Course (Coursera)</strong></h2>\n",
    "\n",
    "<strong><h2>Programming Assignment 1(Linear Regression with multiple variables)</h2></strong>\n",
    "<br/>\n",
    "<p align=\"justify\">This is a implementation of the Linear Regression with multiple variables programming assignment in PYTHON. The below code is the conversion of Octave exercise program into python. This is just the part of the assignment. You can find the replica of this code in Ocatve inside the assigment folder exercise 1 (i.e. ex1_multi.m file).</p>"
   ]
  },
  {
   "cell_type": "markdown",
   "metadata": {},
   "source": [
    "<h2>Dependencies</h2>"
   ]
  },
  {
   "cell_type": "code",
   "execution_count": 1,
   "metadata": {},
   "outputs": [],
   "source": [
    "import pandas as pd\n",
    "import numpy as np\n",
    "import matplotlib.pyplot as plt\n",
    "\n",
   ]
  },
  {
   "cell_type": "markdown",
   "metadata": {},
   "source": [
    "<h2>Dataset</h2><br/>\n",
    "Converted the ex1data.txt file into csv file.<br/><br/>\n",
    "From file 'ex1data2.csv' contain the variables:\n",
    " - **Size** : Size of the house\n",
    " - **Rooms** : Number of Rooms\n",
    " - **Price** : Price of the house\n",
    " \n",
    "Read the file, save data as matrix. "
   ]
  },
  {
   "cell_type": "code",
   "execution_count": 2,
   "metadata": {},
   "outputs": [
    {
     "data": {
      "text/html": [
       "<div>\n",
       "<style scoped>\n",
       "    .dataframe tbody tr th:only-of-type {\n",
       "        vertical-align: middle;\n",
       "    }\n",
       "\n",
       "    .dataframe tbody tr th {\n",
       "        vertical-align: top;\n",
       "    }\n",
       "\n",
       "    .dataframe thead th {\n",
       "        text-align: right;\n",
       "    }\n",
       "</style>\n",
       "<table border=\"1\" class=\"dataframe\">\n",
       "  <thead>\n",
       "    <tr style=\"text-align: right;\">\n",
       "      <th></th>\n",
       "      <th>Size</th>\n",
       "      <th>Rooms</th>\n",
       "      <th>Price</th>\n",
       "    </tr>\n",
       "  </thead>\n",
       "  <tbody>\n",
       "    <tr>\n",
       "      <th>0</th>\n",
       "      <td>2104</td>\n",
       "      <td>3</td>\n",
       "      <td>399900</td>\n",
       "    </tr>\n",
       "    <tr>\n",
       "      <th>1</th>\n",
       "      <td>1600</td>\n",
       "      <td>3</td>\n",
       "      <td>329900</td>\n",
       "    </tr>\n",
       "    <tr>\n",
       "      <th>2</th>\n",
       "      <td>2400</td>\n",
       "      <td>3</td>\n",
       "      <td>369000</td>\n",
       "    </tr>\n",
       "    <tr>\n",
       "      <th>3</th>\n",
       "      <td>1416</td>\n",
       "      <td>2</td>\n",
       "      <td>232000</td>\n",
       "    </tr>\n",
       "    <tr>\n",
       "      <th>4</th>\n",
       "      <td>3000</td>\n",
       "      <td>4</td>\n",
       "      <td>539900</td>\n",
       "    </tr>\n",
       "  </tbody>\n",
       "</table>\n",
       "</div>"
      ],
      "text/plain": [
       "   Size  Rooms   Price\n",
       "0  2104      3  399900\n",
       "1  1600      3  329900\n",
       "2  2400      3  369000\n",
       "3  1416      2  232000\n",
       "4  3000      4  539900"
      ]
     },
     "execution_count": 2,
     "metadata": {},
     "output_type": "execute_result"
    }
   ],
   "source": [
    "dataset = pd.read_csv('ex1data2.csv')\n",
    "data = dataset.as_matrix()\n",
    "X = data[:, :2]\n",
    "Y = data[:, 2]\n",
    "m = data.shape[0]\n",
    "dataset.head()"
   ]
  },
  {
   "attachments": {},
   "cell_type": "markdown",
   "metadata": {},
   "source": [
    "<strong><h3>================ Part 1: Feature Normalization ================</h3></strong>"
   ]
  },
  {
   "cell_type": "code",
   "execution_count": 3,
   "metadata": {},
   "outputs": [],
   "source": [
    "def featureNormalize(X):\n",
    "    x_row = X.shape[1]\n",
    "    X_norm = X\n",
    "    mu = np.zeros((1, x_row))\n",
    "    sigma = np.zeros((1, x_row))\n",
    "    \n",
    "    for i in range(x_row):\n",
    "        mu[:,i] = np.mean(X[:,i])\n",
    "        sigma[:, i] = np.std(X[:,i])\n",
    "        X_norm[:,i] = (X[:, i] - float(mu[:,i])) / float(sigma[:,i])\n",
    "        \n",
    "    return X_norm, mu, sigma"
   ]
  },
  {
   "cell_type": "code",
   "execution_count": 4,
   "metadata": {},
   "outputs": [],
   "source": [
    "X_norm, mu, sigma = featureNormalize(X)\n",
    "X = np.concatenate((np.ones((m,1)), X_norm), axis=1) #added intercept \n"
   ]
  },
  {
   "cell_type": "markdown",
   "metadata": {},
   "source": [
    "<h3><strong>================ Part 2: Gradient Descent ================</strong></h3>"
   ]
  },
  {
   "cell_type": "code",
   "execution_count": 5,
   "metadata": {},
   "outputs": [],
   "source": [
    "def computeCostMulti(X, y, theta):\n",
    "    J = 0\n",
    "    s = np.power(( X.dot(theta) - np.transpose([y]) ), 2)\n",
    "    J = s.sum(axis = 0) / (2*m)\n",
    "    return J\n",
    "\n",
    "def gradientDescentMulti(X, y, theta, alpha, num_iters):\n",
    "    J_history = np.zeros((num_iters, 1))\n",
    "    \n",
    "    for i in range(num_iters):\n",
    "        theta = theta - alpha*(1.0/m) * np.transpose(X).dot(X.dot(theta) - np.transpose([y]))\n",
    "        J_history[i] = computeCostMulti(X, y, theta)\n",
    "    return theta , J_history"
   ]
  },
  {
   "cell_type": "code",
   "execution_count": 6,
   "metadata": {},
   "outputs": [],
   "source": [
    "alpha = 0.01\n",
    "num_iters = 400\n",
    "\n",
    "# Init Theta and Run Gradient Descent \n",
    "theta = np.zeros((3, 1)) \n",
    "\n",
    "theta, J_history = gradientDescentMulti(X, Y, theta, alpha, num_iters)"
   ]
  },
  {
   "cell_type": "markdown",
   "metadata": {},
   "source": [
    "<strong><h3>Plot the convergence graph</h3></strong>"
   ]
  },
  {
   "cell_type": "code",
   "execution_count": 7,
   "metadata": {},
   "outputs": [
    {
     "data": {
      "image/png": "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\n",
      "text/plain": [
       "<matplotlib.figure.Figure at 0x7b5e17e128>"
      ]
     },
     "metadata": {},
     "output_type": "display_data"
    }
   ],
   "source": [
    "plt.plot(range(J_history.size), J_history, \"-b\", linewidth=2 )\n",
    "plt.xlabel('Number of iterations')\n",
    "plt.ylabel('Cost J')\n",
    "plt.show(block=False)"
   ]
  },
  {
   "cell_type": "code",
   "execution_count": 8,
   "metadata": {},
   "outputs": [
    {
     "name": "stdout",
     "output_type": "stream",
     "text": [
      "Theta computed from gradient descent:\n",
      "316903.677870, 103170.321969, 39227.138225\n"
     ]
    }
   ],
   "source": [
    "#Display gradient descent's result\n",
    "print('Theta computed from gradient descent:')\n",
    "print('{:f}, {:f}, {:f}'.format(theta[0][0], theta[1][0], theta[2][0]));"
   ]
  },
  {
   "cell_type": "code",
   "execution_count": 9,
   "metadata": {},
   "outputs": [
    {
     "name": "stdout",
     "output_type": "stream",
     "text": [
      "Predicted price of a 1650 sq-ft, 3 bedroom house (using gradient descent): $262,016.19\n"
     ]
    }
   ],
   "source": [
    "area_norm = (1650 - float(mu[:,0])) / float(sigma[:,0])\n",
    "br_norm = (3 - float(mu[:,1]))/float(sigma[:,1])\n",
    "house_norm_padded = np.array([1, area_norm, br_norm])\n",
    "\n",
    "price = np.array(house_norm_padded).dot(theta)\n",
    "\n",
    "print(\"Predicted price of a 1650 sq-ft, 3 bedroom house (using gradient descent): ${:,.2f}\".format(price[0]))"
   ]
  },
  {
   "cell_type": "markdown",
   "metadata": {},
   "source": [
    "<strong><h3>================ Part 3: Normal Equations ================</h3></strong>"
   ]
  },
  {
   "cell_type": "code",
   "execution_count": 10,
   "metadata": {},
   "outputs": [],
   "source": [
    "dataset = pd.read_csv('ex1data2.csv')\n",
    "data = dataset.as_matrix()\n",
    "X = data[:, :2]\n",
    "Y = data[:, 2]\n",
    "m = data.shape[0]\n",
    "#add intercept\n",
    "X = np.column_stack((np.ones((m,1)), X)) "
   ]
  },
  {
   "cell_type": "code",
   "execution_count": 11,
   "metadata": {},
   "outputs": [],
   "source": [
    "def normalEqn(X, y):\n",
    "    theta = np.zeros((X.shape[1], 1))\n",
    "    theta = np.linalg.pinv(X.T.dot(X)).dot((X.T).dot(y))\n",
    "    return theta"
   ]
  },
  {
   "cell_type": "code",
   "execution_count": 12,
   "metadata": {},
   "outputs": [
    {
     "name": "stdout",
     "output_type": "stream",
     "text": [
      "Theta computed from the normal equations:\n",
      "89597.909544, 139.210674, -8738.019113\n"
     ]
    }
   ],
   "source": [
    "# Calculate the parameters from the normal equation\n",
    "theta = normalEqn(X,Y)\n",
    "\n",
    "# Display normal equation's result\n",
    "print('Theta computed from the normal equations:')\n",
    "print(\"{:f}, {:f}, {:f}\".format(theta[0], theta[1], theta[2]))"
   ]
  },
  {
   "cell_type": "code",
   "execution_count": 13,
   "metadata": {},
   "outputs": [
    {
     "name": "stdout",
     "output_type": "stream",
     "text": [
      "Predicted price of a 1650 sq-ft, 3 br house (using gradient descent):\n",
      " $293,081.46\n"
     ]
    }
   ],
   "source": [
    "# Estimate the price of a 1650 sq-ft, 3 br house\n",
    "house_norm_padded = np.array([1, 1650, 3])\n",
    "price = np.array(house_norm_padded).dot(theta)\n",
    "\n",
    "\n",
    "print(\"Predicted price of a 1650 sq-ft, 3 br house (using gradient descent):\\n ${:,.2f}\".format(price))"
   ]
  }
 ],
 "metadata": {
  "kernelspec": {
   "display_name": "Python 3",
   "language": "python",
   "name": "python3"
  },
  "language_info": {
   "codemirror_mode": {
    "name": "ipython",
    "version": 3
   },
   "file_extension": ".py",
   "mimetype": "text/x-python",
   "name": "python",
   "nbconvert_exporter": "python",
   "pygments_lexer": "ipython3",
   "version": "3.6.4"
  }
 },
 "nbformat": 4,
 "nbformat_minor": 2
}
